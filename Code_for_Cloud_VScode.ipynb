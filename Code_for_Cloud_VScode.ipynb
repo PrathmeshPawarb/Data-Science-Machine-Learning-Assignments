{
  "nbformat": 4,
  "nbformat_minor": 0,
  "metadata": {
    "colab": {
      "provenance": [],
      "authorship_tag": "ABX9TyM8ZYyOPmAgjWuGwPu0WEup",
      "include_colab_link": true
    },
    "kernelspec": {
      "name": "python3",
      "display_name": "Python 3"
    },
    "language_info": {
      "name": "python"
    }
  },
  "cells": [
    {
      "cell_type": "markdown",
      "metadata": {
        "id": "view-in-github",
        "colab_type": "text"
      },
      "source": [
        "<a href=\"https://colab.research.google.com/github/PrathmeshPawarb/Data-Science-Machine-Learning-Assignments/blob/main/Code_for_Cloud_VScode.ipynb\" target=\"_parent\"><img src=\"https://colab.research.google.com/assets/colab-badge.svg\" alt=\"Open In Colab\"/></a>"
      ]
    },
    {
      "cell_type": "code",
      "source": [
        "!pip install --upgrade click\n"
      ],
      "metadata": {
        "colab": {
          "base_uri": "https://localhost:8080/"
        },
        "id": "bn2be_SlV1Pj",
        "outputId": "e80740af-d313-45c6-bd47-39f2fd6445a8"
      },
      "execution_count": 3,
      "outputs": [
        {
          "output_type": "stream",
          "name": "stdout",
          "text": [
            "Requirement already satisfied: click in /usr/local/lib/python3.10/dist-packages (8.1.7)\n"
          ]
        }
      ]
    },
    {
      "cell_type": "code",
      "execution_count": 4,
      "metadata": {
        "colab": {
          "base_uri": "https://localhost:8080/"
        },
        "id": "slcz9Q1ENeSX",
        "outputId": "92619e3e-4dc0-40fb-fd35-d406f46f4a36"
      },
      "outputs": [
        {
          "output_type": "stream",
          "name": "stdout",
          "text": [
            "\u001b[31mERROR: pip's dependency resolver does not currently take into account all the packages that are installed. This behaviour is the source of the following dependency conflicts.\n",
            "flask 2.2.5 requires click>=8.0, but you have click 7.1.2 which is incompatible.\n",
            "dask 2023.8.1 requires click>=8.0, but you have click 7.1.2 which is incompatible.\n",
            "distributed 2023.8.1 requires click>=8.0, but you have click 7.1.2 which is incompatible.\n",
            "fiona 1.9.6 requires click~=8.0, but you have click 7.1.2 which is incompatible.\n",
            "pip-tools 6.13.0 requires click>=8, but you have click 7.1.2 which is incompatible.\u001b[0m\u001b[31m\n",
            "\u001b[0m"
          ]
        }
      ],
      "source": [
        "!pip install -q colabcode"
      ]
    },
    {
      "cell_type": "code",
      "source": [
        "!pip install ngrok"
      ],
      "metadata": {
        "colab": {
          "base_uri": "https://localhost:8080/"
        },
        "id": "GGXJU0DQXLEI",
        "outputId": "27d174eb-8898-42ab-bc7b-e07da59718a2"
      },
      "execution_count": 9,
      "outputs": [
        {
          "output_type": "stream",
          "name": "stdout",
          "text": [
            "Collecting ngrok\n",
            "  Downloading ngrok-1.2.0-cp37-abi3-manylinux_2_17_x86_64.manylinux2014_x86_64.whl (2.9 MB)\n",
            "\u001b[2K     \u001b[90m━━━━━━━━━━━━━━━━━━━━━━━━━━━━━━━━━━━━━━━━\u001b[0m \u001b[32m2.9/2.9 MB\u001b[0m \u001b[31m1.4 MB/s\u001b[0m eta \u001b[36m0:00:00\u001b[0m\n",
            "\u001b[?25hInstalling collected packages: ngrok\n",
            "Successfully installed ngrok-1.2.0\n"
          ]
        }
      ]
    },
    {
      "cell_type": "code",
      "source": [
        "!ngrok config add-authtoken 2eqnQs65v3XCff3WpryCx8WUBNe_2jLpWAPeHPfwjLggzo2bc"
      ],
      "metadata": {
        "colab": {
          "base_uri": "https://localhost:8080/"
        },
        "id": "thiP__k1XS-A",
        "outputId": "3ee1fde6-2a36-4821-f3e5-d7c0fc59aeca"
      },
      "execution_count": 11,
      "outputs": [
        {
          "output_type": "stream",
          "name": "stdout",
          "text": [
            "Authtoken saved to configuration file: /root/.config/ngrok/ngrok.yml\n"
          ]
        }
      ]
    },
    {
      "cell_type": "code",
      "source": [
        "from colabcode import ColabCode"
      ],
      "metadata": {
        "id": "fIIAw5qbVUYJ"
      },
      "execution_count": 12,
      "outputs": []
    },
    {
      "cell_type": "markdown",
      "source": [
        "# For Authtoken - https://dashboard.ngrok.com/tunnels/authtokens/new"
      ],
      "metadata": {
        "id": "EVQxhUqdYv0V"
      }
    },
    {
      "cell_type": "code",
      "source": [
        "from colabcode import ColabCode\n",
        "\n",
        "# Replace \"YOUR_AUTH_TOKEN\" with the actual authentication token obtained from ngrok\n",
        "# Ensure the authtoken is valid and not expired\n",
        "authtoken = \"2eqnw4JeZRTf4g7YlymWfMnN7Od_3LPXVRY3tgs4hqGmwEY7m\"\n",
        "\n",
        "ColabCode(port=10000, password=1234, authtoken=authtoken)"
      ],
      "metadata": {
        "colab": {
          "base_uri": "https://localhost:8080/"
        },
        "id": "pFeSZ2u8VUSj",
        "outputId": "ce1e3323-c972-47c2-e562-0761dc728f41"
      },
      "execution_count": null,
      "outputs": [
        {
          "output_type": "stream",
          "name": "stdout",
          "text": [
            "Code Server can be accessed on: NgrokTunnel: \"https://7678-35-226-14-149.ngrok-free.app\" -> \"http://localhost:10000\"\n",
            "[2024-04-09T05:40:34.681Z] info  code-server 3.10.2 387b12ef4ca404ffd39d84834e1f0776e9e3c005\n",
            "[2024-04-09T05:40:34.683Z] info  Using user-data-dir ~/.local/share/code-server\n",
            "[2024-04-09T05:40:34.702Z] info  Using config file ~/.config/code-server/config.yaml\n",
            "[2024-04-09T05:40:34.702Z] info  HTTP server listening on http://127.0.0.1:10000 \n",
            "[2024-04-09T05:40:34.702Z] info    - Authentication is enabled\n",
            "[2024-04-09T05:40:34.702Z] info      - Using password from $PASSWORD\n",
            "[2024-04-09T05:40:34.702Z] info    - Not serving HTTPS \n"
          ]
        }
      ]
    },
    {
      "cell_type": "code",
      "source": [],
      "metadata": {
        "id": "wDZ9SiB0VUP5"
      },
      "execution_count": null,
      "outputs": []
    },
    {
      "cell_type": "code",
      "source": [],
      "metadata": {
        "id": "22tlo1zxVUNW"
      },
      "execution_count": null,
      "outputs": []
    },
    {
      "cell_type": "code",
      "source": [],
      "metadata": {
        "id": "tgumIMUhVUKN"
      },
      "execution_count": null,
      "outputs": []
    },
    {
      "cell_type": "code",
      "source": [],
      "metadata": {
        "id": "HGdx82uOVUHO"
      },
      "execution_count": null,
      "outputs": []
    }
  ]
}